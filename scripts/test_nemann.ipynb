{
 "cells": [
  {
   "cell_type": "code",
   "execution_count": 2,
   "metadata": {},
   "outputs": [
    {
     "data": {
      "application/vnd.jupyter.widget-view+json": {
       "model_id": "726ccc08a356407f95658d6e61176e51",
       "version_major": 2,
       "version_minor": 0
      },
      "text/plain": [
       "Box(children=(Box(children=(IntSlider(value=0, description='Mode Index', layout=Layout(flex='3 1 auto'), max=1…"
      ]
     },
     "metadata": {},
     "output_type": "display_data"
    }
   ],
   "source": [
    "import sys\n",
    "import os\n",
    "sys.path.append(\"../\")\n",
    "from src.fem.visulize import viewer\n",
    "import torch\n",
    "import pymesh\n",
    "mesh_path = '/home/jxt/GNNBEM/dataset/ABC_Dataset/surf_mesh_remeshed/00000002.sf.obj'\n",
    "neumann_path = mesh_path.replace('surf_mesh_remeshed', 'surf_mesh_remeshed_neumann').replace('.sf.obj', '.pt')\n",
    "\n",
    "vecs_amp = torch.load(neumann_path)\n",
    "mesh = pymesh.load_mesh(mesh_path)\n",
    "viewer(\n",
    "    mesh.vertices,\n",
    "    mesh.faces,\n",
    "    vecs_amp.T,\n",
    "    intensitymode=\"vertex\",\n",
    ").show()"
   ]
  }
 ],
 "metadata": {
  "kernelspec": {
   "display_name": "bem",
   "language": "python",
   "name": "python3"
  },
  "language_info": {
   "codemirror_mode": {
    "name": "ipython",
    "version": 3
   },
   "file_extension": ".py",
   "mimetype": "text/x-python",
   "name": "python",
   "nbconvert_exporter": "python",
   "pygments_lexer": "ipython3",
   "version": "3.7.16"
  },
  "orig_nbformat": 4
 },
 "nbformat": 4,
 "nbformat_minor": 2
}
